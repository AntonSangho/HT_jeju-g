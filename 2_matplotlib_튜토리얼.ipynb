{
  "cells": [
    {
      "cell_type": "markdown",
      "metadata": {
        "id": "view-in-github",
        "colab_type": "text"
      },
      "source": [
        "<a href=\"https://colab.research.google.com/github/AntonSangho/HT_jeju-g/blob/main/2_matplotlib_%ED%8A%9C%ED%86%A0%EB%A6%AC%EC%96%BC.ipynb\" target=\"_parent\"><img src=\"https://colab.research.google.com/assets/colab-badge.svg\" alt=\"Open In Colab\"/></a>"
      ]
    },
    {
      "cell_type": "markdown",
      "metadata": {
        "id": "d-udkHGV1Gdt"
      },
      "source": [
        "# Matplotlib으로 데이터 시각화하기 📊\n",
        "\n",
        "## Matplotlib이란?\n",
        "* Python의 대표적인 데이터 시각화 라이브러리입니다.\n",
        "* 그래프, 차트, 히스토그램 등 다양한 형태의 시각화를 만들 수 있습니다.\n",
        "* 과학 계산, 데이터 분석에서 가장 널리 사용되는 시각화 도구입니다.\n",
        "\n",
        "## 주요 특징\n",
        "1. 쉽고 직관적인 인터페이스\n",
        "2. 높은 수준의 커스터마이징 가능\n",
        "3. 다양한 그래프 스타일 제공\n",
        "4. Publication-quality figures 생성 가능\n",
        "\n",
        "이제 간단한 예제를 통해 Matplotlib 사용법을 배워보겠습니다! 🚀"
      ]
    },
    {
      "cell_type": "markdown",
      "metadata": {
        "id": "WRqmW3wX1Gdz"
      },
      "source": [
        "## 1️⃣ 기본 설정\n",
        "먼저 필요한 라이브러리를 가져옵니다."
      ]
    },
    {
      "cell_type": "code",
      "metadata": {
        "id": "9c9bjbI51Gd0"
      },
      "source": [
        "# matplotlib 라이브러리 임포트\n",
        "import matplotlib.pyplot as plt\n",
        "\n",
        "# 그래프가 노트북 안에 표시되도록 설정\n",
        "%matplotlib inline"
      ],
      "execution_count": null,
      "outputs": []
    },
    {
      "cell_type": "markdown",
      "metadata": {
        "id": "gtpfOh1i1Gd3"
      },
      "source": [
        "## 2️⃣ 데이터 준비\n",
        "간단한 온도 데이터를 만들어 봅시다."
      ]
    },
    {
      "cell_type": "code",
      "metadata": {
        "id": "-ihV8QZD1Gd3"
      },
      "source": [
        "# 날짜와 온도 데이터 준비\n",
        "date = [11, 12, 13, 14, 15]           # x축: 날짜\n",
        "temp = [20, 25, 21, 29, 25]          # y축: 온도\n",
        "\n",
        "print(\"날짜:\", date)\n",
        "print(\"온도:\", temp)"
      ],
      "execution_count": null,
      "outputs": []
    },
    {
      "cell_type": "markdown",
      "metadata": {
        "id": "n2CDji_F1Gd4"
      },
      "source": [
        "## 3️⃣ 기본 그래프 그리기\n",
        "가장 기본적인 선 그래프를 그려봅시다."
      ]
    },
    {
      "cell_type": "code",
      "metadata": {
        "id": "5AfGMlJ_1Gd4"
      },
      "source": [
        "# 기본 선 그래프 그리기\n",
        "plt.plot(date, temp)\n",
        "plt.show()"
      ],
      "execution_count": null,
      "outputs": []
    },
    {
      "cell_type": "markdown",
      "metadata": {
        "id": "Xd1bC_Zc1Gd5"
      },
      "source": [
        "## 4️⃣ 그래프 꾸미기\n",
        "이제 그래프를 더 보기 좋게 꾸며봅시다!"
      ]
    },
    {
      "cell_type": "code",
      "metadata": {
        "id": "B-1QnEGg1Gd5"
      },
      "source": [
        "# 스타일 설정 (회색조 테마 사용)\n",
        "plt.style.use('grayscale')\n",
        "\n",
        "# figure와 axis 객체 생성\n",
        "fig, ax = plt.subplots(figsize=(10, 6))  # 그래프 크기 설정\n",
        "\n",
        "# 데이터 플로팅\n",
        "ax.plot(date, temp, marker='o')  # 선 그래프에 점 표시 추가\n",
        "\n",
        "# 축 레이블 설정\n",
        "ax.set_xlabel(\"Date\", fontsize=12)           # x축 레이블\n",
        "ax.set_ylabel(\"Temperature (°C)\", fontsize=12)  # y축 레이블\n",
        "\n",
        "# 제목 추가\n",
        "ax.set_title(\"Daily Temperature Changes\", fontsize=14)\n",
        "\n",
        "# x축 눈금 설정\n",
        "plt.xticks([int(d) for d in date])\n",
        "\n",
        "# 그리드 추가\n",
        "ax.grid(True, linestyle='--', alpha=0.7)\n",
        "\n",
        "# 그래프 표시\n",
        "plt.show()"
      ],
      "execution_count": null,
      "outputs": []
    },
    {
      "cell_type": "markdown",
      "metadata": {
        "id": "mfRxZ6jD1Gd6"
      },
      "source": [
        "## 5️⃣ 도전 과제!\n",
        "아래 데이터를 사용해서 새로운 그래프를 만들어보세요.\n",
        "1. 막대 그래프로 표현해보기 (`plt.bar()` 사용)\n",
        "2. 다른 스타일 적용해보기 (`plt.style.available`로 가능한 스타일 확인)\n",
        "3. 그래프에 범례 추가하기 (`ax.legend()` 사용)"
      ]
    },
    {
      "cell_type": "code",
      "metadata": {
        "id": "xYaC0dB61Gd7"
      },
      "source": [
        "# 새로운 데이터\n",
        "months = ['Jan', 'Feb', 'Mar', 'Apr', 'May']\n",
        "rainfall = [50, 40, 60, 45, 70]\n",
        "\n",
        "# 여기에 여러분의 코드를 작성해보세요!\n",
        "# 힌트: plt.bar(months, rainfall)"
      ],
      "execution_count": null,
      "outputs": []
    },
    {
      "cell_type": "markdown",
      "metadata": {
        "id": "G2FBGcKw1Gd7"
      },
      "source": [
        "## 참고: 자주 사용하는 Matplotlib 함수들\n",
        "\n",
        "* `plt.plot()`: 선 그래프\n",
        "* `plt.bar()`: 막대 그래프\n",
        "* `plt.scatter()`: 산점도\n",
        "* `plt.hist()`: 히스토그램\n",
        "* `plt.pie()`: 파이 차트\n",
        "* `plt.boxplot()`: 박스 플롯\n",
        "\n",
        "더 많은 예제와 설명은 [Matplotlib 공식 문서](https://matplotlib.org/stable/gallery/index.html)를 참고하세요!"
      ]
    }
  ],
  "metadata": {
    "colab": {
      "provenance": [],
      "toc_visible": true,
      "private_outputs": true,
      "include_colab_link": true
    },
    "kernelspec": {
      "name": "python3",
      "display_name": "Python 3"
    },
    "language_info": {
      "name": "python",
      "version": "3.10.0",
      "mimetype": "text/x-python",
      "codemirror_mode": {
        "name": "ipython",
        "version": 3
      },
      "pygments_lexer": "ipython3",
      "nbconvert_exporter": "python",
      "file_extension": ".py"
    }
  },
  "nbformat": 4,
  "nbformat_minor": 0
}