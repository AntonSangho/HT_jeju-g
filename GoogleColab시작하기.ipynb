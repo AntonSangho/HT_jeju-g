{
  "cells": [
    {
      "cell_type": "markdown",
      "metadata": {
        "id": "view-in-github",
        "colab_type": "text"
      },
      "source": [
        "<a href=\"https://colab.research.google.com/github/AntonSangho/HT_jeju-g/blob/main/GoogleColab%EC%8B%9C%EC%9E%91%ED%95%98%EA%B8%B0.ipynb\" target=\"_parent\"><img src=\"https://colab.research.google.com/assets/colab-badge.svg\" alt=\"Open In Colab\"/></a>"
      ]
    },
    {
      "cell_type": "markdown",
      "source": [
        "# Google Colab 시작하기 🚀\n",
        "\n",
        "이 노트북은 Google Colab의 기본 사용법을 배우기 위한 튜토리얼입니다."
      ],
      "metadata": {
        "id": "-sKCxmHhzm59"
      }
    },
    {
      "cell_type": "markdown",
      "metadata": {
        "id": "-q8vk-2-xHnl"
      },
      "source": [
        "\n",
        "\n",
        "## 1️⃣ 텍스트 셀과 코드 셀 이해하기\n",
        "* 지금 보고 있는 것이 텍스트 셀입니다!\n",
        "* 텍스트 셀은 마크다운 문법을 사용해 작성할 수 있습니다.\n",
        "* 텍스트 셀을 편집하려면 더블클릭하세요\n",
        "* 편집이 끝나면 Ctrl+Enter 또는 ⌘+Enter를 누르세요"
      ]
    },
    {
      "cell_type": "markdown",
      "metadata": {
        "id": "F6DgdvlexHnr"
      },
      "source": [
        "## 2️⃣ 코드 셀 실행하기\n",
        "아래는 코드 셀입니다. 실행 버튼을 누르거나 Shift+Enter를 눌러보세요!"
      ]
    },
    {
      "cell_type": "code",
      "metadata": {
        "id": "x61_WnH1xHns"
      },
      "source": [
        "print(\"안녕하세요! Google Colab에 오신 것을 환영합니다!\")\n",
        "print(\"이것은 첫 번째 코드 셀입니다.\")\n",
        "\n",
        "# 간단한 계산을 해봅시다\n",
        "result = 123 + 456\n",
        "print(f\"123 + 456 = {result}\")"
      ],
      "execution_count": null,
      "outputs": []
    },
    {
      "cell_type": "markdown",
      "metadata": {
        "id": "zOtjTTuNxHnv"
      },
      "source": [
        "## 3️⃣ 에러 만들고 수정하기\n",
        "이 셀은 일부러 에러를 발생시킵니다. 실행해보고 에러 메시지를 확인해보세요!"
      ]
    },
    {
      "cell_type": "code",
      "metadata": {
        "id": "-M5qt8evxHnv"
      },
      "source": [
        "print(\"이 코드는 에러가 날 거예요!\")  # print를 잘못 입력했네요!"
      ],
      "execution_count": null,
      "outputs": []
    },
    {
      "cell_type": "markdown",
      "metadata": {
        "id": "gxUJk75zxHnw"
      },
      "source": [
        "위 코드를 아래처럼 수정하면 정상 작동합니다."
      ]
    },
    {
      "cell_type": "code",
      "metadata": {
        "id": "7I-2HOKYxHnw"
      },
      "source": [
        "print(\"이제 에러가 해결되었어요!\")"
      ],
      "execution_count": null,
      "outputs": []
    },
    {
      "cell_type": "markdown",
      "metadata": {
        "id": "gJli7f1nxHnx"
      },
      "source": [
        "## 4️⃣ 변수 다루기\n",
        "파이썬에서 변수를 사용하는 방법을 배워봅시다."
      ]
    },
    {
      "cell_type": "code",
      "metadata": {
        "id": "SWIbzmYOxHny"
      },
      "source": [
        "# 변수 선언과 사용\n",
        "message = \"파이썬 프로그래밍\"\n",
        "print(message + \"은 재미있어요!\")\n",
        "\n",
        "# 간단한 리스트 만들기\n",
        "numbers = [1, 2, 3, 4, 5]\n",
        "print(\"리스트의 첫번째 숫자:\", numbers[0])\n",
        "print(\"리스트의 마지막 숫자:\", numbers[-1])"
      ],
      "execution_count": null,
      "outputs": []
    },
    {
      "cell_type": "markdown",
      "metadata": {
        "id": "SfW6fES7xHny"
      },
      "source": [
        "## 5️⃣ 셀 제거하기\n",
        "이 셀은 연습용입니다. 셀을 제거하려면:\n",
        "1. 셀을 선택하고\n",
        "2. 메뉴에서 '편집 > 셀 삭제' 를 선택하거나\n",
        "3. Ctrl+M D (Windows) 또는 ⌘+M D (Mac)를 누르세요"
      ]
    },
    {
      "cell_type": "code",
      "metadata": {
        "id": "3jRzvyNlxHnz"
      },
      "source": [
        "print(\"이 셀은 제거해보세요!\")"
      ],
      "execution_count": null,
      "outputs": []
    },
    {
      "cell_type": "markdown",
      "metadata": {
        "id": "OJCORWqdxHnz"
      },
      "source": [
        "## 6️⃣ 도전 과제!\n",
        "아래 코드를 실행해보고, 어떻게 작동하는지 이해해보세요."
      ]
    },
    {
      "cell_type": "code",
      "metadata": {
        "id": "j06-J9umxHnz"
      },
      "source": [
        "# 1부터 10까지의 합을 계산하는 코드\n",
        "total = 0\n",
        "for i in range(1, 11):\n",
        "    total += i\n",
        "print(f\"1부터 10까지의 합은 {total}입니다.\")"
      ],
      "execution_count": null,
      "outputs": []
    }
  ],
  "metadata": {
    "colab": {
      "provenance": [],
      "toc_visible": true,
      "private_outputs": true,
      "include_colab_link": true
    },
    "kernelspec": {
      "name": "python3",
      "display_name": "Python 3"
    },
    "language_info": {
      "name": "python",
      "version": "3.10.0",
      "mimetype": "text/x-python",
      "codemirror_mode": {
        "name": "ipython",
        "version": 3
      },
      "pygments_lexer": "ipython3",
      "nbconvert_exporter": "python",
      "file_extension": ".py"
    }
  },
  "nbformat": 4,
  "nbformat_minor": 0
}